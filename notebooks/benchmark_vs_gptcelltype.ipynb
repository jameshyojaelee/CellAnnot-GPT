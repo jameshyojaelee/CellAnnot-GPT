{
 "cells": [
  {
   "cell_type": "markdown",
   "metadata": {},
   "source": [
    "# Benchmark GPT Cell Annotator vs. GPTCelltype\n",
    "Use this notebook to reproduce the benchmarking harness in `evaluation/benchmark_runner.py` and compare accuracy against GPTCelltype outputs."
   ]
  },
  {
   "cell_type": "code",
   "execution_count": null,
   "metadata": {},
   "outputs": [],
   "source": [
    "from pathlib import Path\n",
    "import pandas as pd\n",
    "from evaluation.benchmark_runner import BenchmarkConfig, BenchmarkRunner\n",
    "\n",
    "config = BenchmarkConfig.load(Path('evaluation/configs/pbmc_mock.yaml'))\n",
    "runner = BenchmarkRunner(config=config, force_mock=True)\n",
    "results = runner.run()\n",
    "pd.DataFrame(results['datasets']).set_index('name')"
   ]
  },
  {
   "cell_type": "markdown",
   "metadata": {},
   "source": [
    "## Compare with GPTCelltype\n",
    "Drop GPTCelltype's CSV outputs into `evaluation/inputs/` and compute deltas."
   ]
  },
  {
   "cell_type": "code",
   "execution_count": null,
   "metadata": {},
   "outputs": [],
   "source": [
    "baseline = pd.read_csv('evaluation/inputs/gptcelltype_pbmc.csv')\n",
    "comparison = runner.compare_with_baseline(baseline)\n",
    "comparison[['dataset', 'gca_support_rate', 'baseline_support_rate']]"
   ]
  }
 ],
 "metadata": {
  "kernelspec": {
   "display_name": "Python 3",
   "language": "python",
   "name": "python3"
  },
  "language_info": {
   "name": "python",
   "version": "3.11"
  }
 },
 "nbformat": 4,
 "nbformat_minor": 5
}
