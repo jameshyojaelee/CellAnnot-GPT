{
 "cells": [
  {
   "cell_type": "markdown",
   "metadata": {},
   "source": [
    "# PBMC Scanpy Workflow\n",
    "This notebook demonstrates how to run the `annotate_anndata` helper with batching, caching, and guardrails for a small PBMC dataset."
   ]
  },
  {
   "cell_type": "code",
   "execution_count": null,
   "metadata": {},
   "outputs": [],
   "source": [
    "from pathlib import Path\n",
    "import scanpy as sc\n",
    "from gpt_cell_annotator import BatchOptions, DiskAnnotationCache, GuardrailConfig, annotate_anndata\n",
    "\n",
    "adata = sc.read_h5ad(\"data/demo/pbmc_demo.h5ad\")\n",
    "sc.tl.rank_genes_groups(adata, groupby=\"leiden\", n_genes=5, method=\"wilcoxon\")\n",
    "\n",
    "cache = DiskAnnotationCache(Path('~/.cache/gca/notebooks').expanduser())\n",
    "result = annotate_anndata(\n",
    "    adata,\n",
    "    cluster_key=\"leiden\",\n",
    "    species=\"Homo sapiens\",\n",
    "    tissue=\"Peripheral blood\",\n",
    "    batch_options=BatchOptions(size=24, concurrency=2),\n",
    "    guardrails=GuardrailConfig(min_marker_overlap=1),\n",
    "    annotation_cache=cache,\n",
    ")\n",
    "result.report.summary"
   ]
  },
  {
   "cell_type": "markdown",
   "metadata": {},
   "source": [
    "## Inspect annotations\n",
    "The `ScanpyAnnotationResult` exposes the updated AnnData object and validation warnings."
   ]
  },
  {
   "cell_type": "code",
   "execution_count": null,
   "metadata": {},
   "outputs": [],
   "source": [
    "result.adata.obs[[\"leiden\", \"gptca_label\", \"gptca_status\"]].head()"
   ]
  }
 ],
 "metadata": {
  "kernelspec": {
   "display_name": "Python 3",
   "language": "python",
   "name": "python3"
  },
  "language_info": {
   "name": "python",
   "version": "3.11"
  }
 },
 "nbformat": 4,
 "nbformat_minor": 5
}