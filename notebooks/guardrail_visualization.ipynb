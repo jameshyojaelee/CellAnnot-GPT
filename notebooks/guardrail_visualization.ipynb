{
 "cells": [
  {
   "cell_type": "markdown",
   "metadata": {},
   "source": [
    "# Guardrail Visualisation\n",
    "Visualise validation statuses, warnings, and confidence levels returned by `annotate_anndata`."
   ]
  },
  {
   "cell_type": "code",
   "execution_count": null,
   "metadata": {},
   "outputs": [],
   "source": [
    "import pandas as pd\n",
    "import seaborn as sns\n",
    "import matplotlib.pyplot as plt\n",
    "\n",
    "from gpt_cell_annotator import annotate_anndata\n",
    "import scanpy as sc\n",
    "\n",
    "adata = sc.read_h5ad('data/demo/pbmc_demo.h5ad')\n",
    "result = annotate_anndata(adata, cluster_key='leiden', species='Homo sapiens')\n",
    "df = pd.DataFrame(result.report.model_dump()['clusters'])\n",
    "status_counts = df['status'].value_counts().rename_axis('status').reset_index(name='count')\n",
    "sns.barplot(data=status_counts, x='status', y='count', palette='viridis')\n",
    "plt.title('Validation status per cluster')\n",
    "plt.show()"
   ]
  },
  {
   "cell_type": "markdown",
   "metadata": {},
   "source": [
    "## Explore warnings per cluster\n",
    "Each entry in `result.report.clusters` tracks warning strings and calibration info."
   ]
  },
  {
   "cell_type": "code",
   "execution_count": null,
   "metadata": {},
   "outputs": [],
   "source": [
    "pd.DataFrame([\n",
    "    {\n",
    "        'cluster_id': cluster['cluster_id'],\n",
    "        'status': cluster['status'],\n",
    "        'warnings': '; '.join(cluster.get('warnings') or []),\n",
    "    }\n",
    "    for cluster in result.report.model_dump()['clusters']\n",
    "]).head()"
   ]
  }
 ],
 "metadata": {
  "kernelspec": {
   "display_name": "Python 3",
   "language": "python",
   "name": "python3"
  },
  "language_info": {
   "name": "python",
   "version": "3.11"
  }
 },
 "nbformat": 4,
 "nbformat_minor": 5
}
